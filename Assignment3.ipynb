{
 "cells": [
  {
   "cell_type": "code",
   "execution_count": 1,
   "id": "5c305588",
   "metadata": {},
   "outputs": [],
   "source": [
    "import pandas as pd\n",
    "import numpy as np\n",
    "import re\n",
    "import nltk\n",
    "from nltk.tokenize import word_tokenize\n",
    "from nltk.corpus import stopwords\n",
    "from sklearn.feature_extraction.text import CountVectorizer, TfidfVectorizer\n",
    "from sklearn.naive_bayes import MultinomialNB\n",
    "from sklearn.model_selection import train_test_split\n",
    "from sklearn.metrics import accuracy_score, classification_report\n",
    "import spacy"
   ]
  },
  {
   "cell_type": "code",
   "execution_count": 2,
   "id": "b161f395",
   "metadata": {},
   "outputs": [],
   "source": [
    "##Function get dataframe from text file\n",
    "def load_txt_data(filepath):\n",
    "    \n",
    "    texts = []\n",
    "    labels = []\n",
    "    labels_numeric =[]\n",
    "    \n",
    "    with open(filepath, \"r\", encoding=\"utf-8\") as file:\n",
    "        lines = file.readlines()\n",
    "        \n",
    "        \n",
    "        for line in lines[1:]:  \n",
    "            parts = line.strip().split(\"\\t\")  \n",
    "            \n",
    "            if len(parts) >= 2:\n",
    "                tweet = \" \".join(parts[1:-2])  \n",
    "                label = parts[-1]  \n",
    "                texts.append(tweet)\n",
    "                \n",
    "                \n",
    "                sentiment_mapping = {\n",
    "                    \"0: neutral or mixed emotional state can be inferred\": 'neutral',\n",
    "                    \"1: slightly positive emotional state can be inferred\": 'neutral',\n",
    "                    \"2: moderately positive emotional state can be inferred\": 'positive',\n",
    "                    \"3: very positive emotional state can be inferred\": 'positive',\n",
    "                    \"-1: slightly negative emotional state can be inferred\": 'neutral',\n",
    "                    \"-2: moderately negative emotional state can be inferred\": 'negative',\n",
    "                    \"-3: very negative emotional state can be inferred\": 'negative'\n",
    "                }\n",
    "                \n",
    "                \n",
    "                labels.append(sentiment_mapping.get(label, np.nan))\n",
    "    \n",
    "    df = pd.DataFrame({\"Tweet\": texts, \"Sentiment\": labels})\n",
    "    \n",
    "    df.dropna(inplace=True)\n",
    "    df[\"Sentiment\"] = df[\"Sentiment\"].astype(str)\n",
    "    \n",
    "    return df"
   ]
  },
  {
   "cell_type": "code",
   "execution_count": 5,
   "id": "ef0e8465",
   "metadata": {},
   "outputs": [
    {
     "name": "stdout",
     "output_type": "stream",
     "text": [
      "1181\n"
     ]
    }
   ],
   "source": [
    "# Loading training data\n",
    "train_data = load_txt_data(\"train.txt\")\n",
    "train_data.shape\n",
    "print(len(train_data['Tweet']))"
   ]
  },
  {
   "cell_type": "code",
   "execution_count": 6,
   "id": "f61dd7c0",
   "metadata": {},
   "outputs": [],
   "source": [
    "tweet = train_data['Tweet'][0]"
   ]
  },
  {
   "cell_type": "code",
   "execution_count": 7,
   "id": "5af126fb",
   "metadata": {},
   "outputs": [
    {
     "data": {
      "text/plain": [
       "'@liamch88 yeah! :) playing well '"
      ]
     },
     "execution_count": 7,
     "metadata": {},
     "output_type": "execute_result"
    }
   ],
   "source": [
    "tweet"
   ]
  },
  {
   "cell_type": "code",
   "execution_count": 8,
   "id": "09ace07e",
   "metadata": {},
   "outputs": [],
   "source": [
    "mytext=train_data['Tweet'][0]"
   ]
  },
  {
   "cell_type": "code",
   "execution_count": 9,
   "id": "e77ad6ab",
   "metadata": {},
   "outputs": [
    {
     "name": "stdout",
     "output_type": "stream",
     "text": [
      "@liamch88 yeah! :) playing well \n"
     ]
    }
   ],
   "source": [
    "print(mytext)"
   ]
  },
  {
   "cell_type": "code",
   "execution_count": 10,
   "id": "e72d1326",
   "metadata": {},
   "outputs": [
    {
     "data": {
      "text/html": [
       "<div>\n",
       "<style scoped>\n",
       "    .dataframe tbody tr th:only-of-type {\n",
       "        vertical-align: middle;\n",
       "    }\n",
       "\n",
       "    .dataframe tbody tr th {\n",
       "        vertical-align: top;\n",
       "    }\n",
       "\n",
       "    .dataframe thead th {\n",
       "        text-align: right;\n",
       "    }\n",
       "</style>\n",
       "<table border=\"1\" class=\"dataframe\">\n",
       "  <thead>\n",
       "    <tr style=\"text-align: right;\">\n",
       "      <th></th>\n",
       "      <th>Tweet</th>\n",
       "      <th>Sentiment</th>\n",
       "    </tr>\n",
       "  </thead>\n",
       "  <tbody>\n",
       "    <tr>\n",
       "      <th>0</th>\n",
       "      <td>@liamch88 yeah! :) playing well</td>\n",
       "      <td>neutral</td>\n",
       "    </tr>\n",
       "    <tr>\n",
       "      <th>1</th>\n",
       "      <td>At least I don't have a guy trying to discoura...</td>\n",
       "      <td>neutral</td>\n",
       "    </tr>\n",
       "    <tr>\n",
       "      <th>2</th>\n",
       "      <td>UPLIFT: If you're still discouraged it means y...</td>\n",
       "      <td>neutral</td>\n",
       "    </tr>\n",
       "    <tr>\n",
       "      <th>3</th>\n",
       "      <td>...at your age, the heyday in the blood is tam...</td>\n",
       "      <td>neutral</td>\n",
       "    </tr>\n",
       "    <tr>\n",
       "      <th>4</th>\n",
       "      <td>i was so embarrassed when she saw us i was lik...</td>\n",
       "      <td>negative</td>\n",
       "    </tr>\n",
       "  </tbody>\n",
       "</table>\n",
       "</div>"
      ],
      "text/plain": [
       "                                               Tweet Sentiment\n",
       "0                   @liamch88 yeah! :) playing well    neutral\n",
       "1  At least I don't have a guy trying to discoura...   neutral\n",
       "2  UPLIFT: If you're still discouraged it means y...   neutral\n",
       "3  ...at your age, the heyday in the blood is tam...   neutral\n",
       "4  i was so embarrassed when she saw us i was lik...  negative"
      ]
     },
     "execution_count": 10,
     "metadata": {},
     "output_type": "execute_result"
    }
   ],
   "source": [
    "train_data[:5]"
   ]
  },
  {
   "cell_type": "code",
   "execution_count": 11,
   "id": "2f9a8180",
   "metadata": {},
   "outputs": [
    {
     "data": {
      "text/plain": [
       "Sentiment\n",
       "neutral     586\n",
       "negative    378\n",
       "positive    217\n",
       "Name: count, dtype: int64"
      ]
     },
     "execution_count": 11,
     "metadata": {},
     "output_type": "execute_result"
    }
   ],
   "source": [
    "train_data['Sentiment'].value_counts()"
   ]
  },
  {
   "cell_type": "code",
   "execution_count": 12,
   "id": "b9f3ce3c",
   "metadata": {},
   "outputs": [
    {
     "data": {
      "text/plain": [
       "(937, 2)"
      ]
     },
     "execution_count": 12,
     "metadata": {},
     "output_type": "execute_result"
    }
   ],
   "source": [
    "#Loading test datasets\n",
    "test_data = load_txt_data(\"test.txt\") \n",
    "test_data.shape"
   ]
  },
  {
   "cell_type": "markdown",
   "id": "b7525504",
   "metadata": {},
   "source": [
    "### TASK 1: Extract Unigram Features ###"
   ]
  },
  {
   "cell_type": "code",
   "execution_count": 28,
   "id": "3ea0e23e",
   "metadata": {},
   "outputs": [
    {
     "name": "stdout",
     "output_type": "stream",
     "text": [
      "Number of features in training set: 5038\n",
      "Number of features in test set: 5038\n"
     ]
    }
   ],
   "source": [
    "### TASK 1: Extract Unigram Features ###\n",
    "\n",
    "X_train, y_train = train_data[\"Tweet\"], train_data[\"Sentiment\"]\n",
    "X_test, y_test = test_data[\"Tweet\"], test_data[\"Sentiment\"]\n",
    "\n",
    "vectorizer = CountVectorizer(ngram_range=(1, 1))  # Unigrams\n",
    "X_train_features = vectorizer.fit_transform(X_train)\n",
    "X_test_features = vectorizer.transform(X_test)\n",
    "\n",
    "\n",
    "print(f\"Number of features in training set: {X_train_features.shape[1]}\")\n",
    "print(f\"Number of features in test set: {X_test_features.shape[1]}\")"
   ]
  },
  {
   "cell_type": "code",
   "execution_count": 31,
   "id": "96ddb0d3",
   "metadata": {},
   "outputs": [],
   "source": [
    "from sklearn.metrics import accuracy_score, classification_report, precision_score, recall_score, f1_score\n",
    "def multinomialNB_model(X_train_features, y_train, X_test_features, y_test):\n",
    "    nb_classifier = MultinomialNB()\n",
    "    nb_classifier.fit(X_train_features, y_train)\n",
    "\n",
    "\n",
    "    y_pred = nb_classifier.predict(X_test_features)\n",
    "\n",
    "\n",
    "    accuracy = accuracy_score(y_test, y_pred)\n",
    "    print(f\"Model Accuracy: {accuracy:.4f}\")\n",
    "\n",
    "\n",
    "    class_report = classification_report(y_test, y_pred, digits=4, zero_division=0)\n",
    "\n",
    "    print(\"Classification Report:\\n\", class_report)\n",
    "    \n",
    "    micro_precision = precision_score(y_test, y_pred, average='micro')\n",
    "    micro_recall = recall_score(y_test, y_pred, average='micro')\n",
    "    micro_f1 = f1_score(y_test, y_pred, average='micro')\n",
    "\n",
    "    \n",
    "    print(f\"Micro Precision: {micro_precision:.4f}\")\n",
    "    print(f\"Micro Recall: {micro_recall:.4f}\")\n",
    "    print(f\"Micro F1-Score: {micro_f1:.4f}\")"
   ]
  },
  {
   "cell_type": "code",
   "execution_count": 32,
   "id": "d49b94a4",
   "metadata": {},
   "outputs": [
    {
     "name": "stdout",
     "output_type": "stream",
     "text": [
      "Model Accuracy: 0.5571\n",
      "Classification Report:\n",
      "               precision    recall  f1-score   support\n",
      "\n",
      "    negative     0.5825    0.4346    0.4978       260\n",
      "     neutral     0.5361    0.8263    0.6503       449\n",
      "    positive     0.7451    0.1667    0.2724       228\n",
      "\n",
      "    accuracy                         0.5571       937\n",
      "   macro avg     0.6212    0.4759    0.4735       937\n",
      "weighted avg     0.5998    0.5571    0.5160       937\n",
      "\n",
      "Micro Precision: 0.5571\n",
      "Micro Recall: 0.5571\n",
      "Micro F1-Score: 0.5571\n"
     ]
    }
   ],
   "source": [
    "multinomialNB_model(X_train_features, y_train, X_test_features, y_test)"
   ]
  },
  {
   "cell_type": "markdown",
   "id": "3aced760",
   "metadata": {},
   "source": [
    "### Task 2 (feature selection 1): a. Remove features with low variance 0.001 ###"
   ]
  },
  {
   "cell_type": "code",
   "execution_count": 33,
   "id": "41672c61",
   "metadata": {},
   "outputs": [],
   "source": [
    "from sklearn.feature_selection import VarianceThreshold"
   ]
  },
  {
   "cell_type": "code",
   "execution_count": 34,
   "id": "f64d8951",
   "metadata": {},
   "outputs": [],
   "source": [
    "def variance_removal(threshold):\n",
    "    print(\"Threshold: \", threshold)\n",
    "    selector = VarianceThreshold(threshold = threshold)\n",
    "\n",
    "    X_train_features_filtered_var_thr = selector.fit(X_train_features).transform(X_train_features)\n",
    "    print (\"Train feature space before filtering: \", X_train_features.shape)\n",
    "    print (\"Train feature space after filtering: \", X_train_features_filtered_var_thr.shape)\n",
    "\n",
    "    X_test_features_filtered_var_thr = selector.transform(X_test_features)\n",
    "    print (\"Test feature space before filtering: \", X_test_features.shape)\n",
    "    print (\"Test feature space after filtering: \", X_test_features_filtered_var_thr.shape)\n",
    "    \n",
    "    return X_train_features_filtered_var_thr, X_test_features_filtered_var_thr"
   ]
  },
  {
   "cell_type": "code",
   "execution_count": 35,
   "id": "b1d0a9ff",
   "metadata": {},
   "outputs": [
    {
     "name": "stdout",
     "output_type": "stream",
     "text": [
      "Threshold:  0.001\n",
      "Train feature space before filtering:  (1181, 5038)\n",
      "Train feature space after filtering:  (1181, 1596)\n",
      "Test feature space before filtering:  (937, 5038)\n",
      "Test feature space after filtering:  (937, 1596)\n"
     ]
    }
   ],
   "source": [
    "### a. Task 2 (feature selection 1): Remove features with low variance 0.001 ###\n",
    "X_train_features_filtered_var_thr_one, X_test_features_filtered_var_thr_one = variance_removal(0.001)\n"
   ]
  },
  {
   "cell_type": "code",
   "execution_count": 36,
   "id": "c43365c4",
   "metadata": {},
   "outputs": [
    {
     "name": "stdout",
     "output_type": "stream",
     "text": [
      "Model Accuracy: 0.5603\n",
      "Classification Report:\n",
      "               precision    recall  f1-score   support\n",
      "\n",
      "    negative     0.5184    0.4885    0.5030       260\n",
      "     neutral     0.5587    0.7105    0.6255       449\n",
      "    positive     0.6529    0.3465    0.4527       228\n",
      "\n",
      "    accuracy                         0.5603       937\n",
      "   macro avg     0.5766    0.5151    0.5271       937\n",
      "weighted avg     0.5704    0.5603    0.5495       937\n",
      "\n",
      "Micro Precision: 0.5603\n",
      "Micro Recall: 0.5603\n",
      "Micro F1-Score: 0.5603\n"
     ]
    }
   ],
   "source": [
    "multinomialNB_model(X_train_features_filtered_var_thr_one, y_train, X_test_features_filtered_var_thr_one, y_test)"
   ]
  },
  {
   "cell_type": "markdown",
   "id": "89c3c9a8",
   "metadata": {},
   "source": [
    "### Task 2 (feature selection 1): b. Remove features with low variance 0.005 ###"
   ]
  },
  {
   "cell_type": "code",
   "execution_count": 37,
   "id": "af179a58",
   "metadata": {},
   "outputs": [
    {
     "name": "stdout",
     "output_type": "stream",
     "text": [
      "Threshold:  0.005\n",
      "Train feature space before filtering:  (1181, 5038)\n",
      "Train feature space after filtering:  (1181, 490)\n",
      "Test feature space before filtering:  (937, 5038)\n",
      "Test feature space after filtering:  (937, 490)\n"
     ]
    }
   ],
   "source": [
    "### b. Task 2 (feature selection 1): Remove features with low variance 0.005 ###\n",
    "X_train_features_filtered_var_thr_five, X_test_features_filtered_var_thr_five = variance_removal(0.005)"
   ]
  },
  {
   "cell_type": "code",
   "execution_count": 38,
   "id": "76a93fc7",
   "metadata": {},
   "outputs": [
    {
     "name": "stdout",
     "output_type": "stream",
     "text": [
      "Model Accuracy: 0.5390\n",
      "Classification Report:\n",
      "               precision    recall  f1-score   support\n",
      "\n",
      "    negative     0.4773    0.4846    0.4809       260\n",
      "     neutral     0.5493    0.6325    0.5880       449\n",
      "    positive     0.6090    0.4167    0.4948       228\n",
      "\n",
      "    accuracy                         0.5390       937\n",
      "   macro avg     0.5452    0.5113    0.5212       937\n",
      "weighted avg     0.5438    0.5390    0.5356       937\n",
      "\n",
      "Micro Precision: 0.5390\n",
      "Micro Recall: 0.5390\n",
      "Micro F1-Score: 0.5390\n"
     ]
    }
   ],
   "source": [
    "multinomialNB_model(X_train_features_filtered_var_thr_five, y_train, X_test_features_filtered_var_thr_five, y_test)"
   ]
  },
  {
   "cell_type": "markdown",
   "id": "e64ba41f",
   "metadata": {},
   "source": [
    "### Task 3 (feature selection 2): Select top k-best features using information gain (mutual information) k=1000 ###"
   ]
  },
  {
   "cell_type": "code",
   "execution_count": 39,
   "id": "e27d91e6",
   "metadata": {},
   "outputs": [],
   "source": [
    "### Task 3 (feature selection 2): Select top k-best features using information gain (mutual information) k=1000 ###\n",
    "\n",
    "from sklearn.feature_selection import SelectKBest, chi2\n",
    "\n",
    "def mutual_information_k(k):\n",
    "    selector = SelectKBest(chi2, k=k)\n",
    "    X_train_features_filtered_kbest = selector.fit_transform(X_train_features, y_train)\n",
    "    print (\"Train feature space before filtering: \", X_train_features.shape)\n",
    "    print (\"Train feature space after filtering: \", X_train_features_filtered_kbest.shape)\n",
    "\n",
    "    X_test_features_filtered_kbest = selector.transform(X_test_features)\n",
    "    print (\"Test feature space before filtering: \", X_test_features.shape)\n",
    "    print (\"Test feature space after filtering: \", X_test_features_filtered_kbest.shape)\n",
    "    \n",
    "    return X_train_features_filtered_kbest, X_test_features_filtered_kbest"
   ]
  },
  {
   "cell_type": "code",
   "execution_count": 40,
   "id": "fe7e6d20",
   "metadata": {},
   "outputs": [
    {
     "name": "stdout",
     "output_type": "stream",
     "text": [
      "Train feature space before filtering:  (1181, 5038)\n",
      "Train feature space after filtering:  (1181, 1000)\n",
      "Test feature space before filtering:  (937, 5038)\n",
      "Test feature space after filtering:  (937, 1000)\n"
     ]
    }
   ],
   "source": [
    "X_train_features_filtered_kbest_one, X_test_features_filtered_kbest_one = mutual_information_k(1000)"
   ]
  },
  {
   "cell_type": "code",
   "execution_count": 41,
   "id": "4684dc2e",
   "metadata": {},
   "outputs": [
    {
     "name": "stdout",
     "output_type": "stream",
     "text": [
      "Model Accuracy: 0.5229\n",
      "Classification Report:\n",
      "               precision    recall  f1-score   support\n",
      "\n",
      "    negative     0.5305    0.4346    0.4778       260\n",
      "     neutral     0.5169    0.7840    0.6230       449\n",
      "    positive     0.5814    0.1096    0.1845       228\n",
      "\n",
      "    accuracy                         0.5229       937\n",
      "   macro avg     0.5429    0.4427    0.4284       937\n",
      "weighted avg     0.5364    0.5229    0.4760       937\n",
      "\n",
      "Micro Precision: 0.5229\n",
      "Micro Recall: 0.5229\n",
      "Micro F1-Score: 0.5229\n"
     ]
    }
   ],
   "source": [
    "multinomialNB_model(X_train_features_filtered_kbest_one, y_train, X_test_features_filtered_kbest_one, y_test)"
   ]
  },
  {
   "cell_type": "markdown",
   "id": "59272735",
   "metadata": {},
   "source": [
    "### Task 3 (feature selection 2): Select top k-best features using information gain (mutual information) k=2000 ###"
   ]
  },
  {
   "cell_type": "code",
   "execution_count": 42,
   "id": "4cb44621",
   "metadata": {},
   "outputs": [
    {
     "name": "stdout",
     "output_type": "stream",
     "text": [
      "Train feature space before filtering:  (1181, 5038)\n",
      "Train feature space after filtering:  (1181, 2000)\n",
      "Test feature space before filtering:  (937, 5038)\n",
      "Test feature space after filtering:  (937, 2000)\n"
     ]
    }
   ],
   "source": [
    "### Task 3 (feature selection 2): Select top k-best features using information gain (mutual information) k=2000 ###\n",
    "X_train_features_filtered_kbest_two, X_test_features_filtered_kbest_two = mutual_information_k(2000)"
   ]
  },
  {
   "cell_type": "code",
   "execution_count": 43,
   "id": "23c45aed",
   "metadata": {},
   "outputs": [
    {
     "name": "stdout",
     "output_type": "stream",
     "text": [
      "Model Accuracy: 0.5486\n",
      "Classification Report:\n",
      "               precision    recall  f1-score   support\n",
      "\n",
      "    negative     0.6331    0.3385    0.4411       260\n",
      "     neutral     0.5253    0.8797    0.6578       449\n",
      "    positive     0.6739    0.1360    0.2263       228\n",
      "\n",
      "    accuracy                         0.5486       937\n",
      "   macro avg     0.6108    0.4514    0.4417       937\n",
      "weighted avg     0.5914    0.5486    0.4927       937\n",
      "\n",
      "Micro Precision: 0.5486\n",
      "Micro Recall: 0.5486\n",
      "Micro F1-Score: 0.5486\n"
     ]
    }
   ],
   "source": [
    "multinomialNB_model(X_train_features_filtered_kbest_two, y_train, X_test_features_filtered_kbest_two, y_test)"
   ]
  },
  {
   "cell_type": "markdown",
   "id": "2f39ce2b",
   "metadata": {},
   "source": [
    "### Task 4 (feature selection 3): Lexicon-based feature selection ###"
   ]
  },
  {
   "cell_type": "code",
   "execution_count": 44,
   "id": "ba580e8d",
   "metadata": {},
   "outputs": [],
   "source": [
    "### Task 4 (feature selection 3): Lexicon-based feature selection ###\n",
    "# Load positive and negative words from Hu & Liu lexicon\n",
    "def load_lexicon(filepath):\n",
    "    with open(filepath, \"r\", encoding=\"utf-8\") as file:\n",
    "        words = set(word.strip() for word in file.readlines())\n",
    "    return words\n",
    "\n",
    "# Update these paths with the actual file locations\n",
    "positive_words = load_lexicon(\"positive_words_list.txt\")\n",
    "negative_words = load_lexicon(\"negative_words_list.txt\")"
   ]
  },
  {
   "cell_type": "code",
   "execution_count": 45,
   "id": "8579e47f",
   "metadata": {},
   "outputs": [
    {
     "name": "stdout",
     "output_type": "stream",
     "text": [
      "Example before filtering: @liamch88 yeah! :) playing well \n",
      "Example after filtering: well\n",
      "(1181, 3)\n"
     ]
    }
   ],
   "source": [
    "def lexicon_filter(text):\n",
    "    tokens = nltk.word_tokenize(text.lower())  # Tokenize and lowercase\n",
    "    return \" \".join([word for word in tokens if word in positive_words or word in negative_words])\n",
    "\n",
    "train_data[\"filtered_text\"] = train_data[\"Tweet\"].apply(lexicon_filter)\n",
    "test_data[\"filtered_text\"] = test_data[\"Tweet\"].apply(lexicon_filter)\n",
    "\n",
    "print(\"Example before filtering:\", train_data[\"Tweet\"].iloc[0])\n",
    "print(\"Example after filtering:\", train_data[\"filtered_text\"].iloc[0])\n",
    "print(train_data.shape)"
   ]
  },
  {
   "cell_type": "code",
   "execution_count": 46,
   "id": "233adbae",
   "metadata": {},
   "outputs": [
    {
     "name": "stdout",
     "output_type": "stream",
     "text": [
      "Train feature space :  (1181, 678)\n",
      "Test feature space :  (937, 678)\n"
     ]
    }
   ],
   "source": [
    "X_train_lexi, y_train = train_data[\"filtered_text\"], train_data[\"Sentiment\"]\n",
    "X_test_lexi, y_test = test_data[\"filtered_text\"], test_data[\"Sentiment\"]\n",
    "\n",
    "vectorizer = CountVectorizer(ngram_range=(1, 1))  # Unigrams\n",
    "X_train_features_lexi = vectorizer.fit_transform(X_train_lexi)\n",
    "X_test_features_lexi = vectorizer.transform(X_test_lexi)\n",
    "\n",
    "print (\"Train feature space : \", X_train_features_lexi.shape)\n",
    "\n",
    "print (\"Test feature space : \", X_test_features_lexi.shape)"
   ]
  },
  {
   "cell_type": "code",
   "execution_count": 47,
   "id": "671e82c5",
   "metadata": {},
   "outputs": [
    {
     "name": "stdout",
     "output_type": "stream",
     "text": [
      "Model Accuracy: 0.5656\n",
      "Classification Report:\n",
      "               precision    recall  f1-score   support\n",
      "\n",
      "    negative     0.6307    0.4269    0.5092       260\n",
      "     neutral     0.5413    0.7884    0.6419       449\n",
      "    positive     0.6075    0.2851    0.3881       228\n",
      "\n",
      "    accuracy                         0.5656       937\n",
      "   macro avg     0.5931    0.5001    0.5130       937\n",
      "weighted avg     0.5822    0.5656    0.5433       937\n",
      "\n",
      "Micro Precision: 0.5656\n",
      "Micro Recall: 0.5656\n",
      "Micro F1-Score: 0.5656\n"
     ]
    }
   ],
   "source": [
    "multinomialNB_model(X_train_features_lexi, y_train, X_test_features_lexi, y_test)"
   ]
  },
  {
   "cell_type": "markdown",
   "id": "a70c19d0",
   "metadata": {},
   "source": [
    "### Task 6: Extract and select best unigrams ###"
   ]
  },
  {
   "cell_type": "code",
   "execution_count": 48,
   "id": "61813552",
   "metadata": {},
   "outputs": [],
   "source": [
    "from sklearn.feature_selection import SelectKBest, mutual_info_classif\n",
    "\n",
    "vectorizer = CountVectorizer(ngram_range=(1,1))\n",
    "X_train_unigrams = vectorizer.fit_transform(train_data[\"Tweet\"])\n",
    "X_test_unigrams = vectorizer.transform(test_data[\"Tweet\"])\n",
    "mutual_info = mutual_info_classif(X_train_unigrams, y_train, discrete_features=True)\n",
    "\n",
    "#top 2000 unigrams\n",
    "selector = SelectKBest(score_func=mutual_info_classif, k=2000)\n",
    "X_train_selected = selector.fit_transform(X_train_unigrams, y_train)"
   ]
  },
  {
   "cell_type": "markdown",
   "id": "bb51deac",
   "metadata": {},
   "source": [
    "### Task 7: Train and evaluate a Naive Bayes classifier using cross-validation ###\n",
    "### Task 8: Train a linear SVM classifier ###\n",
    "### Task 9: Train a logistic regression classifier ###"
   ]
  },
  {
   "cell_type": "code",
   "execution_count": 49,
   "id": "d74ba186",
   "metadata": {},
   "outputs": [
    {
     "name": "stdout",
     "output_type": "stream",
     "text": [
      "Fold 1 Results:\n",
      "  Naive Bayes - Accuracy: 0.6582, Weighted Precision: 0.7064, Weighted Recall: 0.6582, Weighted F1: 0.6301\n",
      "  SVM - Accuracy: 0.6751, Weighted Precision: 0.6849, Weighted Recall: 0.6751, Weighted F1: 0.6638\n",
      "  Logistic Regression - Accuracy: 0.6414, Weighted Precision: 0.6553, Weighted Recall: 0.6414, Weighted F1: 0.6215\n",
      "\n",
      "Fold 2 Results:\n",
      "  Naive Bayes - Accuracy: 0.7373, Weighted Precision: 0.7826, Weighted Recall: 0.7373, Weighted F1: 0.7165\n",
      "  SVM - Accuracy: 0.6483, Weighted Precision: 0.6490, Weighted Recall: 0.6483, Weighted F1: 0.6401\n",
      "  Logistic Regression - Accuracy: 0.6398, Weighted Precision: 0.6468, Weighted Recall: 0.6398, Weighted F1: 0.6289\n",
      "\n",
      "Fold 3 Results:\n",
      "  Naive Bayes - Accuracy: 0.6653, Weighted Precision: 0.7261, Weighted Recall: 0.6653, Weighted F1: 0.6353\n",
      "  SVM - Accuracy: 0.6695, Weighted Precision: 0.6840, Weighted Recall: 0.6695, Weighted F1: 0.6612\n",
      "  Logistic Regression - Accuracy: 0.6356, Weighted Precision: 0.6505, Weighted Recall: 0.6356, Weighted F1: 0.6223\n",
      "\n",
      "Fold 4 Results:\n",
      "  Naive Bayes - Accuracy: 0.6822, Weighted Precision: 0.7316, Weighted Recall: 0.6822, Weighted F1: 0.6561\n",
      "  SVM - Accuracy: 0.6695, Weighted Precision: 0.6739, Weighted Recall: 0.6695, Weighted F1: 0.6610\n",
      "  Logistic Regression - Accuracy: 0.6822, Weighted Precision: 0.6966, Weighted Recall: 0.6822, Weighted F1: 0.6706\n",
      "\n",
      "Fold 5 Results:\n",
      "  Naive Bayes - Accuracy: 0.6822, Weighted Precision: 0.7329, Weighted Recall: 0.6822, Weighted F1: 0.6581\n",
      "  SVM - Accuracy: 0.6610, Weighted Precision: 0.6731, Weighted Recall: 0.6610, Weighted F1: 0.6545\n",
      "  Logistic Regression - Accuracy: 0.6441, Weighted Precision: 0.6626, Weighted Recall: 0.6441, Weighted F1: 0.6302\n",
      "\n",
      "Naive Bayes Accuracy CI: (0.6578330497013747, 0.7122377505560809)\n",
      "SVM Accuracy CI: (0.6555297038917274, 0.6738345240994048)\n",
      "Logistic Regression Accuracy CI: (0.6319381308690991, 0.6652799196207814)\n",
      "\n",
      "Naive Bayes Results:\n",
      "  Mean Accuracy: 0.6850\n",
      "  Mean Precision: 0.7359\n",
      "  Mean Recall: 0.6850\n",
      "  Mean F1-score: 0.6592\n",
      "\n",
      "SVM Results:\n",
      "  Mean Accuracy: 0.6647\n",
      "  Mean Precision: 0.6730\n",
      "  Mean Recall: 0.6647\n",
      "  Mean F1-score: 0.6561\n",
      "\n",
      "Logistic Regression Results:\n",
      "  Mean Accuracy: 0.6486\n",
      "  Mean Precision: 0.6624\n",
      "  Mean Recall: 0.6486\n",
      "  Mean F1-score: 0.6347\n"
     ]
    }
   ],
   "source": [
    "import math\n",
    "import numpy as np\n",
    "from scipy import stats\n",
    "from sklearn.metrics import accuracy_score, precision_score, recall_score, f1_score\n",
    "from sklearn.naive_bayes import MultinomialNB\n",
    "from sklearn.svm import LinearSVC\n",
    "from sklearn.linear_model import LogisticRegression\n",
    "from sklearn.model_selection import StratifiedKFold\n",
    "\n",
    "# 5-fold cross-validation\n",
    "skf = StratifiedKFold(n_splits=5, shuffle=True, random_state=42)\n",
    "\n",
    "metrics_nb = {'accuracy': [], 'precision': [], 'recall': [], 'f1': []}\n",
    "metrics_svm = {'accuracy': [], 'precision': [], 'recall': [], 'f1': []}\n",
    "metrics_lr = {'accuracy': [], 'precision': [], 'recall': [], 'f1': []}\n",
    "\n",
    "i = 0\n",
    "\n",
    "for train_index, test_index in skf.split(X_train_selected, y_train):\n",
    "    X_train, X_test = X_train_selected[train_index], X_train_selected[test_index]\n",
    "    Y_train, Y_test = y_train[train_index], y_train[test_index]\n",
    "\n",
    "    #### Task 7: Naive Bayes ####\n",
    "    nb_model = MultinomialNB()\n",
    "    nb_model.fit(X_train, Y_train)\n",
    "    preds_nb = nb_model.predict(X_test)\n",
    "\n",
    "    metrics_nb['accuracy'].append(accuracy_score(Y_test, preds_nb))\n",
    "    metrics_nb['precision'].append(precision_score(Y_test, preds_nb, average=\"weighted\"))\n",
    "    metrics_nb['recall'].append(recall_score(Y_test, preds_nb, average=\"weighted\"))\n",
    "    metrics_nb['f1'].append(f1_score(Y_test, preds_nb, average=\"weighted\"))\n",
    "\n",
    "    #### Task 8: Linear SVM ####\n",
    "    svm_model = LinearSVC()\n",
    "    svm_model.fit(X_train, Y_train)\n",
    "    preds_svm = svm_model.predict(X_test)\n",
    "\n",
    "    metrics_svm['accuracy'].append(accuracy_score(Y_test, preds_svm))\n",
    "    metrics_svm['precision'].append(precision_score(Y_test, preds_svm, average=\"weighted\"))\n",
    "    metrics_svm['recall'].append(recall_score(Y_test, preds_svm, average=\"weighted\"))\n",
    "    metrics_svm['f1'].append(f1_score(Y_test, preds_svm, average=\"weighted\"))\n",
    "\n",
    "    #### Task 9: Logistic Regression ####\n",
    "    lr_model = LogisticRegression()\n",
    "    lr_model.fit(X_train, Y_train)\n",
    "    preds_lr = lr_model.predict(X_test)\n",
    "\n",
    "    metrics_lr['accuracy'].append(accuracy_score(Y_test, preds_lr))\n",
    "    metrics_lr['precision'].append(precision_score(Y_test, preds_lr, average=\"weighted\"))\n",
    "    metrics_lr['recall'].append(recall_score(Y_test, preds_lr, average=\"weighted\"))\n",
    "    metrics_lr['f1'].append(f1_score(Y_test, preds_lr, average=\"weighted\"))\n",
    "\n",
    "    print(f\"Fold {i+1} Results:\")\n",
    "    print(f\"  Naive Bayes - Accuracy: {metrics_nb['accuracy'][-1]:.4f}, Weighted Precision: {metrics_nb['precision'][-1]:.4f}, Weighted Recall: {metrics_nb['recall'][-1]:.4f}, Weighted F1: {metrics_nb['f1'][-1]:.4f}\")\n",
    "    print(f\"  SVM - Accuracy: {metrics_svm['accuracy'][-1]:.4f}, Weighted Precision: {metrics_svm['precision'][-1]:.4f}, Weighted Recall: {metrics_svm['recall'][-1]:.4f}, Weighted F1: {metrics_svm['f1'][-1]:.4f}\")\n",
    "    print(f\"  Logistic Regression - Accuracy: {metrics_lr['accuracy'][-1]:.4f}, Weighted Precision: {metrics_lr['precision'][-1]:.4f}, Weighted Recall: {metrics_lr['recall'][-1]:.4f}, Weighted F1: {metrics_lr['f1'][-1]:.4f}\\n\")\n",
    "#     print(f\"  Naive Bayes - F1: {metrics_nb['f1'][-1]:.4f}\")\n",
    "#     print(f\"  SVM - F1: {metrics_svm['f1'][-1]:.4f}\")\n",
    "#     print(f\"  Logistic Regression - F1: {metrics_lr['f1'][-1]:.4f}\\n\")\n",
    "    \n",
    "    i += 1\n",
    "\n",
    "def confidence_interval(scores):\n",
    "    mean_acc = np.mean(scores)\n",
    "    std_err = stats.sem(scores)  \n",
    "    z_score = 1.959 \n",
    "    margin_of_error = z_score * std_err\n",
    "    return mean_acc - margin_of_error, mean_acc + margin_of_error\n",
    "\n",
    "ci_nb = confidence_interval(metrics_nb['accuracy'])\n",
    "ci_svm = confidence_interval(metrics_svm['accuracy'])\n",
    "ci_lr = confidence_interval(metrics_lr['accuracy'])\n",
    "\n",
    "print(f\"Naive Bayes Accuracy CI: {ci_nb}\")\n",
    "print(f\"SVM Accuracy CI: {ci_svm}\")\n",
    "print(f\"Logistic Regression Accuracy CI: {ci_lr}\")\n",
    "\n",
    "\n",
    "def report_results(model_name, metrics):\n",
    "    print(f\"\\n{model_name} Results:\")\n",
    "    print(f\"  Mean Accuracy: {np.mean(metrics['accuracy']):.4f}\")\n",
    "    print(f\"  Mean Precision: {np.mean(metrics['precision']):.4f}\")\n",
    "    print(f\"  Mean Recall: {np.mean(metrics['recall']):.4f}\")\n",
    "    print(f\"  Mean F1-score: {np.mean(metrics['f1']):.4f}\")\n",
    "\n",
    "report_results(\"Naive Bayes\", metrics_nb)\n",
    "report_results(\"SVM\", metrics_svm)\n",
    "report_results(\"Logistic Regression\", metrics_lr)\n"
   ]
  },
  {
   "cell_type": "markdown",
   "id": "fe404069",
   "metadata": {},
   "source": [
    "### Task 10: Model comparison using paired t-test"
   ]
  },
  {
   "cell_type": "code",
   "execution_count": 50,
   "id": "8ee3f5f6",
   "metadata": {},
   "outputs": [
    {
     "name": "stdout",
     "output_type": "stream",
     "text": [
      "LinearSVC vs. Naive Bayes t-test result:  TtestResult(statistic=-0.19455101877313374, pvalue=0.8505941842536587, df=8.0)\n",
      "Naive Bayes vs. Logistic Regression t-test result:  TtestResult(statistic=2.1193282956991033, pvalue=0.06689509685880549, df=8.0)\n",
      "LinearSVC vs. Logistic Regression t-test result:  TtestResult(statistic=1.3720799611337335, pvalue=0.20727756354838042, df=8.0)\n"
     ]
    }
   ],
   "source": [
    "##Task 10: Model comparison using paired t-test\n",
    "from scipy import stats\n",
    "\n",
    "svm_nb_ttest = stats.ttest_ind(metrics_svm['f1'], metrics_nb['f1'])\n",
    "nb_lr_ttest = stats.ttest_ind(metrics_nb['f1'],metrics_lr['f1'])\n",
    "svm_lr_ttest = stats.ttest_ind(metrics_svm['f1'],metrics_lr['f1'])\n",
    "print(\"LinearSVC vs. Naive Bayes t-test result: \", svm_nb_ttest)\n",
    "print(\"Naive Bayes vs. Logistic Regression t-test result: \", svm_lr_ttest)\n",
    "print(\"LinearSVC vs. Logistic Regression t-test result: \", nb_lr_ttest) "
   ]
  },
  {
   "cell_type": "markdown",
   "id": "63de519e",
   "metadata": {},
   "source": [
    "### Task 11"
   ]
  },
  {
   "cell_type": "code",
   "execution_count": 51,
   "id": "1d0a838d",
   "metadata": {},
   "outputs": [
    {
     "name": "stdout",
     "output_type": "stream",
     "text": [
      "Best regularization parameter (C): 1\n",
      "Weighted Precision: 0.5689\n",
      "Weighted Recall: 0.5550\n",
      "Weighted F1 Score: 0.5511\n"
     ]
    }
   ],
   "source": [
    "from sklearn.svm import LinearSVC\n",
    "from sklearn.model_selection import GridSearchCV, train_test_split\n",
    "from sklearn.metrics import classification_report\n",
    "from sklearn.datasets import make_classification\n",
    "\n",
    "svm = LinearSVC(dual=False, max_iter=5000)\n",
    "\n",
    "param_grid = {'C': [0.01, 0.1, 1, 10, 100, 1000]}\n",
    "grid_search = GridSearchCV(svm, param_grid, cv=5, scoring='f1_weighted')\n",
    "grid_search.fit(X_train_features, y_train)\n",
    "best_C = grid_search.best_params_['C']\n",
    "print(f'Best regularization parameter (C): {best_C}')\n",
    "\n",
    "best_svm = LinearSVC(C=best_C, dual=False, max_iter=5000)\n",
    "best_svm.fit(X_train_features, y_train)\n",
    "\n",
    "y_pred = best_svm.predict(X_test_features)\n",
    "\n",
    "report = classification_report(y_test, y_pred, output_dict=True)\n",
    "weighted_precision = report['weighted avg']['precision']\n",
    "weighted_recall = report['weighted avg']['recall']\n",
    "weighted_f1 = report['weighted avg']['f1-score']\n",
    "\n",
    "print(f'Weighted Precision: {weighted_precision:.4f}')\n",
    "print(f'Weighted Recall: {weighted_recall:.4f}')\n",
    "print(f'Weighted F1 Score: {weighted_f1:.4f}')\n"
   ]
  },
  {
   "cell_type": "code",
   "execution_count": null,
   "id": "8763208f",
   "metadata": {},
   "outputs": [],
   "source": []
  }
 ],
 "metadata": {
  "kernelspec": {
   "display_name": "textmining",
   "language": "python",
   "name": "textmining"
  },
  "language_info": {
   "codemirror_mode": {
    "name": "ipython",
    "version": 3
   },
   "file_extension": ".py",
   "mimetype": "text/x-python",
   "name": "python",
   "nbconvert_exporter": "python",
   "pygments_lexer": "ipython3",
   "version": "3.12.8"
  }
 },
 "nbformat": 4,
 "nbformat_minor": 5
}
